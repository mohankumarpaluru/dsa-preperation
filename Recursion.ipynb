{
 "cells": [
  {
   "cell_type": "markdown",
   "metadata": {
    "slideshow": {
     "slide_type": "notes"
    }
   },
   "source": [
    "### Factorial\n",
    "- Multiplying a number by the preceeding number until 1 \n",
    "- Factorial of Zero (0) is also 1\n",
    "- only exists for +ve numbers"
   ]
  },
  {
   "cell_type": "code",
   "execution_count": 1,
   "metadata": {},
   "outputs": [],
   "source": [
    "def factorial_recursion(n):\n",
    "    if n>1:\n",
    "        return factorial_recursion(n-1)*n\n",
    "    elif n in (0, 1):\n",
    "        return 1 \n",
    "    else:\n",
    "        raise ValueError(\"Factorial is not defined for negative numbers.\")\n"
   ]
  },
  {
   "cell_type": "code",
   "execution_count": 2,
   "metadata": {},
   "outputs": [
    {
     "data": {
      "text/plain": [
       "120"
      ]
     },
     "execution_count": 2,
     "metadata": {},
     "output_type": "execute_result"
    }
   ],
   "source": [
    "factorial_recursion(5)"
   ]
  },
  {
   "cell_type": "markdown",
   "metadata": {},
   "source": [
    "### Fibonacci Sequence/Numbers:\n",
    "- Each number is sum of preceeding two numbers\n",
    "- Starts with 0, 1"
   ]
  },
  {
   "cell_type": "code",
   "execution_count": 3,
   "metadata": {},
   "outputs": [],
   "source": [
    "def fibonacci_nth_number_recursive(n):\n",
    "    assert n>0 and isinstance(n, int), \"Input can only be +ve integers\"\n",
    "    if n == 1:\n",
    "        return 0\n",
    "    elif n==2:\n",
    "        return 1\n",
    "    return fibonacci_nth_number_recursive(n-1)+fibonacci_nth_number_recursive(n-2)"
   ]
  },
  {
   "cell_type": "code",
   "execution_count": 4,
   "metadata": {},
   "outputs": [
    {
     "data": {
      "text/plain": [
       "55"
      ]
     },
     "execution_count": 4,
     "metadata": {},
     "output_type": "execute_result"
    }
   ],
   "source": [
    "fibonacci_nth_number_recursive(11)"
   ]
  },
  {
   "cell_type": "code",
   "execution_count": 5,
   "metadata": {},
   "outputs": [],
   "source": [
    "def fibonacci_sequence_recursive(n):\n",
    "    assert n>0 and isinstance(n, int), \"Input can only be +ve integers\"\n",
    "    if n == 1:\n",
    "        print(0)\n",
    "        return [0]\n",
    "    elif n==2:\n",
    "        print(0)\n",
    "        print(1)\n",
    "        return [0,1]\n",
    "    prev_seq = fibonacci_sequence_recursive(n-1)\n",
    "    prev_seq.append(sum(prev_seq[-2:]))\n",
    "    print(prev_seq[-1])\n",
    "    return prev_seq\n"
   ]
  },
  {
   "cell_type": "code",
   "execution_count": 6,
   "metadata": {},
   "outputs": [
    {
     "name": "stdout",
     "output_type": "stream",
     "text": [
      "0\n",
      "1\n",
      "1\n",
      "2\n",
      "3\n",
      "5\n",
      "8\n",
      "13\n",
      "21\n",
      "34\n",
      "55\n"
     ]
    },
    {
     "data": {
      "text/plain": [
       "[0, 1, 1, 2, 3, 5, 8, 13, 21, 34, 55]"
      ]
     },
     "execution_count": 6,
     "metadata": {},
     "output_type": "execute_result"
    }
   ],
   "source": [
    "x = fibonacci_sequence_recursive(11)\n",
    "x"
   ]
  },
  {
   "cell_type": "markdown",
   "metadata": {},
   "source": [
    "How to find sum of digits of a positive integers using recursion ?\n",
    "\n",
    "- Divide by 10 get the remainder until the the quotient is 0 and add all the remainders"
   ]
  },
  {
   "cell_type": "code",
   "execution_count": 7,
   "metadata": {},
   "outputs": [],
   "source": [
    "def sum_of_digits_recursion(n):\n",
    "    assert n>=0 and isinstance(n, int), \"Only +ve inetegers are accepted as input\" \n",
    "    remainder = n%10\n",
    "    quotient = n//10\n",
    "    if quotient == 0:\n",
    "        return remainder\n",
    "    return remainder+sum_of_digits_recursion(quotient)\n"
   ]
  },
  {
   "cell_type": "code",
   "execution_count": 8,
   "metadata": {},
   "outputs": [
    {
     "data": {
      "text/plain": [
       "0"
      ]
     },
     "execution_count": 8,
     "metadata": {},
     "output_type": "execute_result"
    }
   ],
   "source": [
    "sum_of_digits_recursion(0)"
   ]
  },
  {
   "cell_type": "markdown",
   "metadata": {},
   "source": [
    "How to calculate power of a number using Recursion?\n",
    "- multiple by taking power as minus 1"
   ]
  },
  {
   "cell_type": "code",
   "execution_count": 9,
   "metadata": {},
   "outputs": [],
   "source": [
    "def power_of_number_recursion(n, p):\n",
    "    assert isinstance(p, int), \"only integer type power is accepted as input\"\n",
    "    if p == 0 :\n",
    "        return 1\n",
    "    elif p > 0:\n",
    "        return n*power_of_number_recursion(n, p-1)\n",
    "    return 1/(n*power_of_number_recursion(n, -1*p-1))\n",
    "    "
   ]
  },
  {
   "cell_type": "code",
   "execution_count": 10,
   "metadata": {},
   "outputs": [
    {
     "data": {
      "text/plain": [
       "0.008"
      ]
     },
     "execution_count": 10,
     "metadata": {},
     "output_type": "execute_result"
    }
   ],
   "source": [
    "power_of_number_recursion(5, -3)"
   ]
  },
  {
   "cell_type": "markdown",
   "metadata": {},
   "source": [
    "How to find GCD of two numbers using Recursion?\n",
    "- Euclidean algorithm:\n",
    "This algorithm is based on the fact that H.C.F. of two numbers divides their difference as well.\n",
    "In this algorithm, we divide the greater by smaller and take the remainder. Now, divide the smaller by this remainder. Repeat until the remainder is 0."
   ]
  },
  {
   "cell_type": "code",
   "execution_count": 11,
   "metadata": {},
   "outputs": [],
   "source": [
    "def gcd_recursion(x, y):\n",
    "    x, y = abs(x), abs(y)\n",
    "    x, y = (x, y) if x>y else (y,x)\n",
    "    if y==0 or x%y == 0:\n",
    "        return y\n",
    "    return gcd_recursion(y, x%y)    "
   ]
  },
  {
   "cell_type": "code",
   "execution_count": 12,
   "metadata": {},
   "outputs": [
    {
     "data": {
      "text/plain": [
       "0"
      ]
     },
     "execution_count": 12,
     "metadata": {},
     "output_type": "execute_result"
    }
   ],
   "source": [
    "gcd_recursion(0, 300)"
   ]
  },
  {
   "cell_type": "markdown",
   "metadata": {},
   "source": [
    "Convert Decimal to Binary using recursion\n",
    "- Divide by 2 and get reminder as the binary"
   ]
  },
  {
   "cell_type": "code",
   "execution_count": 13,
   "metadata": {},
   "outputs": [],
   "source": [
    "def decimal_to_binary(n):\n",
    "    rem = n%2\n",
    "    quo = n//2\n",
    "    if quo == 0:\n",
    "        return rem\n",
    "    return rem + 10*decimal_to_binary(quo)"
   ]
  },
  {
   "cell_type": "code",
   "execution_count": 14,
   "metadata": {},
   "outputs": [
    {
     "data": {
      "text/plain": [
       "1000"
      ]
     },
     "execution_count": 14,
     "metadata": {},
     "output_type": "execute_result"
    }
   ],
   "source": [
    "decimal_to_binary(8)"
   ]
  }
 ],
 "metadata": {
  "kernelspec": {
   "display_name": "base",
   "language": "python",
   "name": "python3"
  },
  "language_info": {
   "codemirror_mode": {
    "name": "ipython",
    "version": 3
   },
   "file_extension": ".py",
   "mimetype": "text/x-python",
   "name": "python",
   "nbconvert_exporter": "python",
   "pygments_lexer": "ipython3",
   "version": "3.11.5"
  }
 },
 "nbformat": 4,
 "nbformat_minor": 2
}
