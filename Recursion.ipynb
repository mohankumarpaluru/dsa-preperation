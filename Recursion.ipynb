{
 "cells": [
  {
   "cell_type": "markdown",
   "metadata": {
    "slideshow": {
     "slide_type": "notes"
    }
   },
   "source": [
    "### Factorial\n",
    "- Multiplying a number by the preceeding number until 1 \n",
    "- Factorial of Zero (0) is also 1\n",
    "- only exists for +ve numbers"
   ]
  },
  {
   "cell_type": "code",
   "execution_count": 1,
   "metadata": {},
   "outputs": [],
   "source": [
    "def factorial_recursion(n):\n",
    "    if n>1:\n",
    "        return factorial_recursion(n-1)*n\n",
    "    elif n in (0, 1):\n",
    "        return 1 \n",
    "    else:\n",
    "        raise ValueError(\"Factorial is not defined for negative numbers.\")\n"
   ]
  },
  {
   "cell_type": "code",
   "execution_count": 2,
   "metadata": {},
   "outputs": [
    {
     "data": {
      "text/plain": [
       "120"
      ]
     },
     "execution_count": 2,
     "metadata": {},
     "output_type": "execute_result"
    }
   ],
   "source": [
    "factorial_recursion(5)"
   ]
  },
  {
   "cell_type": "markdown",
   "metadata": {},
   "source": [
    "### Fibonacci Sequence/Numbers:\n",
    "- Each number is sum of preceeding two numbers\n",
    "- Starts with 0, 1"
   ]
  },
  {
   "cell_type": "code",
   "execution_count": 3,
   "metadata": {},
   "outputs": [],
   "source": [
    "def fibonacci_nth_number_recursive(n):\n",
    "    assert n>0, \"Input can only be +ve integers\"\n",
    "    if n == 1:\n",
    "        return 0\n",
    "    elif n==2:\n",
    "        return 1\n",
    "    return fibonacci_nth_number_recursive(n-1)+fibonacci_nth_number_recursive(n-2)"
   ]
  },
  {
   "cell_type": "code",
   "execution_count": 4,
   "metadata": {},
   "outputs": [
    {
     "data": {
      "text/plain": [
       "55"
      ]
     },
     "execution_count": 4,
     "metadata": {},
     "output_type": "execute_result"
    }
   ],
   "source": [
    "fibonacci_nth_number_recursive(11)"
   ]
  },
  {
   "cell_type": "code",
   "execution_count": 5,
   "metadata": {},
   "outputs": [],
   "source": [
    "def fibonacci_sequence_recursive(n):\n",
    "    assert n>0, \"Input can only be +ve integers\"\n",
    "    if n == 1:\n",
    "        print(0)\n",
    "        return [0]\n",
    "    elif n==2:\n",
    "        print(0)\n",
    "        print(1)\n",
    "        return [0,1]\n",
    "    prev_seq = fibonacci_sequence_recursive(n-1)\n",
    "    prev_seq.append(sum(prev_seq[-2:]))\n",
    "    print(prev_seq[-1])\n",
    "    return prev_seq\n"
   ]
  },
  {
   "cell_type": "code",
   "execution_count": 6,
   "metadata": {},
   "outputs": [
    {
     "name": "stdout",
     "output_type": "stream",
     "text": [
      "0\n",
      "1\n",
      "1\n",
      "2\n",
      "3\n",
      "5\n",
      "8\n",
      "13\n",
      "21\n",
      "34\n",
      "55\n"
     ]
    },
    {
     "data": {
      "text/plain": [
       "[0, 1, 1, 2, 3, 5, 8, 13, 21, 34, 55]"
      ]
     },
     "execution_count": 6,
     "metadata": {},
     "output_type": "execute_result"
    }
   ],
   "source": [
    "x = fibonacci_sequence_recursive(11)\n",
    "x"
   ]
  }
 ],
 "metadata": {
  "kernelspec": {
   "display_name": "base",
   "language": "python",
   "name": "python3"
  },
  "language_info": {
   "codemirror_mode": {
    "name": "ipython",
    "version": 3
   },
   "file_extension": ".py",
   "mimetype": "text/x-python",
   "name": "python",
   "nbconvert_exporter": "python",
   "pygments_lexer": "ipython3",
   "version": "3.11.5"
  }
 },
 "nbformat": 4,
 "nbformat_minor": 2
}
